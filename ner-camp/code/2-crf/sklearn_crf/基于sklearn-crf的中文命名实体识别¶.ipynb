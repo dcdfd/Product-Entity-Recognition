{
 "cells": [
  {
   "cell_type": "code",
   "execution_count": 1,
   "id": "6602ae7a-32d9-4158-97d4-be06148b66b1",
   "metadata": {},
   "outputs": [],
   "source": [
    "import re\n",
    "import sklearn_crfsuite\n",
    "from sklearn_crfsuite import metrics\n",
    "import joblib\n",
    "import yaml\n",
    "import warnings\n",
    "\n",
    "warnings.filterwarnings('ignore')"
   ]
  },
  {
   "cell_type": "markdown",
   "id": "9cea18ca-4ed8-4373-b4b5-7d15aae09153",
   "metadata": {},
   "source": [
    "## 通用函数"
   ]
  },
  {
   "cell_type": "code",
   "execution_count": 2,
   "id": "b1ec326f-48a3-461c-9349-25b0361906dd",
   "metadata": {},
   "outputs": [],
   "source": [
    "def load_data(data_path):\n",
    "    data = list()\n",
    "    data_sent_with_label = list()\n",
    "    with open(data_path, mode='r', encoding=\"utf-8\") as f:\n",
    "        for line in f:\n",
    "            if line.strip() == \"\":\n",
    "                data.append(data_sent_with_label.copy())\n",
    "                data_sent_with_label.clear()\n",
    "            else:\n",
    "                data_sent_with_label.append(tuple(line.strip().split(\" \")))\n",
    "    return data"
   ]
  },
  {
   "cell_type": "code",
   "execution_count": 3,
   "id": "ceed9860-0602-4c61-9855-2a6fcf8f9bad",
   "metadata": {},
   "outputs": [],
   "source": [
    "tmp=load_data('data/SIGHAN.NER.train')\n",
    "# tmp[0]"
   ]
  },
  {
   "cell_type": "code",
   "execution_count": null,
   "id": "80eef6be-ca98-4e0a-96ae-1fca7355630e",
   "metadata": {},
   "outputs": [],
   "source": []
  },
  {
   "cell_type": "code",
   "execution_count": 4,
   "id": "4f49ed0a-def3-43c6-a59f-c8b52673178a",
   "metadata": {},
   "outputs": [],
   "source": [
    "def word2features(sent, i):\n",
    "    word = sent[i][0]\n",
    "\n",
    "    features = {\n",
    "        'bias': 1.0,\n",
    "        'word': word,\n",
    "        'word.isdigit()': word.isdigit(),\n",
    "        # 'word.isdigit()': word.isalpha(),\n",
    "    }\n",
    "    if i > 0:\n",
    "        word1 = sent[i-1][0]\n",
    "        words = word1 + word\n",
    "        features.update({\n",
    "            '-1:word': word1,\n",
    "            '-1:words': words,\n",
    "            '-1:word.isdigit()': word1.isdigit(),\n",
    "        })\n",
    "    else:\n",
    "        features['BOS'] = True\n",
    "\n",
    "    if i > 1:\n",
    "        word2 = sent[i-2][0]\n",
    "        word1 = sent[i-1][0]\n",
    "        words = word1 + word2 + word\n",
    "        features.update({\n",
    "            '-2:word': word2,\n",
    "            '-2:words': words,\n",
    "            '-3:word.isdigit()': word1.isdigit(),\n",
    "        })\n",
    "\n",
    "    if i > 2:\n",
    "        word3 = sent[i - 3][0]\n",
    "        word2 = sent[i - 2][0]\n",
    "        word1 = sent[i - 1][0]\n",
    "        words = word1 + word2 + word3 + word\n",
    "        features.update({\n",
    "            '-3:word': word3,\n",
    "            '-3:words': words,\n",
    "            '-3:word.isdigit()': word1.isdigit(),\n",
    "        })\n",
    "\n",
    "    if i < len(sent)-1:\n",
    "        word1 = sent[i+1][0]\n",
    "        words = word1 + word\n",
    "        features.update({\n",
    "            '+1:word': word1,\n",
    "            '+1:words': words,\n",
    "            '+1:word.isdigit()': word1.isdigit(),\n",
    "        })\n",
    "    else:\n",
    "        features['EOS'] = True\n",
    "\n",
    "    if i < len(sent)-2:\n",
    "        word2 = sent[i + 2][0]\n",
    "        word1 = sent[i + 1][0]\n",
    "        words = word + word1 + word2\n",
    "        features.update({\n",
    "            '+2:word': word2,\n",
    "            '+2:words': words,\n",
    "            '+2:word.isdigit()': word2.isdigit(),\n",
    "        })\n",
    "\n",
    "    if i < len(sent)-3:\n",
    "        word3 = sent[i + 3][0]\n",
    "        word2 = sent[i + 2][0]\n",
    "        word1 = sent[i + 1][0]\n",
    "        words = word + word1 + word2 + word3\n",
    "        features.update({\n",
    "            '+3:word': word3,\n",
    "            '+3:words': words,\n",
    "            '+3:word.isdigit()': word3.isdigit(),\n",
    "        })\n",
    "\n",
    "    return features"
   ]
  },
  {
   "cell_type": "code",
   "execution_count": 5,
   "id": "3006b5e2-6494-4300-b232-62b041afd9dd",
   "metadata": {},
   "outputs": [],
   "source": [
    "def sent2features(sent):\n",
    "    return [word2features(sent, i) for i in range(len(sent))]\n",
    "\n",
    "\n",
    "def sent2labels(sent):\n",
    "    return [ele[-1] for ele in sent]\n"
   ]
  },
  {
   "cell_type": "code",
   "execution_count": 6,
   "id": "f95f1ff6-0939-4273-a207-3971859c127a",
   "metadata": {},
   "outputs": [
    {
     "name": "stdout",
     "output_type": "stream",
     "text": [
      "18682 4499 4636\n",
      "在一审中苗英毫称厂里为苗英毫垫付过几万的医疗费，实际上医疗费是孟凡荣垫付的，与厂里没有关系藏书本来就是所有传统收藏门类中的第一大户，只是我们结束温饱的时间太短而已。\n",
      "['O', 'O', 'O', 'O', 'B-PER', 'I-PER', 'I-PER', 'O', 'O', 'O', 'O', 'B-PER', 'I-PER', 'I-PER', 'O', 'O', 'O', 'O', 'O', 'O', 'O', 'O', 'O', 'O', 'O', 'O', 'O', 'O', 'O', 'O', 'O', 'B-PER', 'I-PER', 'I-PER', 'O', 'O', 'O', 'O', 'O', 'O', 'O', 'O', 'O', 'O', 'O', 'O', 'O', 'O', 'O', 'O', 'O', 'O', 'O', 'O', 'O', 'O', 'O', 'O', 'O', 'O', 'O', 'O', 'O', 'O', 'O', 'O', 'O', 'O', 'O', 'O', 'O', 'O', 'O', 'O', 'O', 'O', 'O', 'O', 'O', 'O', 'O', 'O']\n"
     ]
    }
   ],
   "source": [
    "train=load_data('data/SIGHAN.NER.train')\n",
    "valid=load_data('data/SIGHAN.NER.vali')\n",
    "test=load_data('data/SIGHAN.NER.test')\n",
    "print(len(train),len(valid),len(test))\n",
    "\n",
    "sample_text=''.join([c[0] for c in train[0]])\n",
    "sample_tags=[c[1] for c in train[0]]\n",
    "print(sample_text)\n",
    "print(sample_tags)"
   ]
  },
  {
   "cell_type": "code",
   "execution_count": 7,
   "id": "8193ae0d-0926-41b8-a84a-f9ed26a2cbaf",
   "metadata": {},
   "outputs": [],
   "source": [
    "\n",
    "\n",
    "X_train = [sent2features(s) for s in train]\n",
    "y_train = [sent2labels(s) for s in train]\n",
    "\n",
    "X_dev = [sent2features(s) for s in valid]\n",
    "y_dev = [sent2labels(s) for s in valid]"
   ]
  },
  {
   "cell_type": "code",
   "execution_count": 9,
   "id": "2cad60e4-ef67-48fc-ae68-831bb782492f",
   "metadata": {
    "tags": []
   },
   "outputs": [],
   "source": [
    "# X_train[0]"
   ]
  },
  {
   "cell_type": "code",
   "execution_count": 10,
   "id": "67761997-2225-46e5-8072-6150b7bc2067",
   "metadata": {
    "collapsed": true,
    "jupyter": {
     "outputs_hidden": true
    },
    "tags": []
   },
   "outputs": [
    {
     "name": "stderr",
     "output_type": "stream",
     "text": [
      "loading training data to CRFsuite: 100%|███████████████████████████████████████████████████████████████████████████████████████████████████████████████████████████████████████████████████████████████████████████████████████████████████| 18682/18682 [00:25<00:00, 735.99it/s]\n"
     ]
    },
    {
     "name": "stdout",
     "output_type": "stream",
     "text": [
      "\n",
      "Feature generation\n",
      "type: CRF1d\n",
      "feature.minfreq: 0.000000\n",
      "feature.possible_states: 0\n",
      "feature.possible_transitions: 1\n",
      "0....1....2....3....4....5....6....7....8....9....10\n",
      "Number of features: 2779254\n",
      "Seconds required: 10.108\n",
      "\n",
      "L-BFGS optimization\n",
      "c1: 0.250000\n",
      "c2: 0.018000\n",
      "num_memories: 6\n",
      "max_iterations: 100\n",
      "epsilon: 0.000010\n",
      "stop: 10\n",
      "delta: 0.000010\n",
      "linesearch: MoreThuente\n",
      "linesearch.max_iterations: 20\n",
      "\n",
      "Iter 1   time=2.39  loss=785007.90 active=2775185 feature_norm=1.00\n",
      "Iter 2   time=1.19  loss=673832.02 active=2762400 feature_norm=4.11\n",
      "Iter 3   time=1.20  loss=577572.95 active=2764398 feature_norm=3.56\n",
      "Iter 4   time=5.88  loss=382113.39 active=856593 feature_norm=2.11\n",
      "Iter 5   time=2.55  loss=357613.86 active=889839 feature_norm=2.53\n",
      "Iter 6   time=1.32  loss=329249.06 active=680760 feature_norm=2.84\n",
      "Iter 7   time=3.67  loss=298188.85 active=677882 feature_norm=3.83\n",
      "Iter 8   time=1.34  loss=276799.06 active=1125106 feature_norm=4.15\n",
      "Iter 9   time=1.35  loss=261736.49 active=1121850 feature_norm=5.79\n",
      "Iter 10  time=1.35  loss=247509.58 active=1217361 feature_norm=5.74\n",
      "Iter 11  time=1.28  loss=240037.69 active=1217572 feature_norm=6.20\n",
      "Iter 12  time=1.44  loss=233669.50 active=1199657 feature_norm=6.80\n",
      "Iter 13  time=1.45  loss=222984.30 active=1171615 feature_norm=7.86\n",
      "Iter 14  time=1.30  loss=213528.35 active=1075102 feature_norm=8.68\n",
      "Iter 15  time=1.28  loss=205007.52 active=1001515 feature_norm=10.23\n",
      "Iter 16  time=1.29  loss=195333.36 active=995837 feature_norm=10.90\n",
      "Iter 17  time=1.29  loss=188601.69 active=957574 feature_norm=11.94\n",
      "Iter 18  time=1.25  loss=182870.32 active=944951 feature_norm=12.47\n",
      "Iter 19  time=1.34  loss=173448.09 active=902610 feature_norm=14.15\n",
      "Iter 20  time=1.25  loss=161498.58 active=883057 feature_norm=17.40\n",
      "Iter 21  time=1.34  loss=146911.58 active=856808 feature_norm=20.23\n",
      "Iter 22  time=1.33  loss=134503.14 active=850798 feature_norm=24.04\n",
      "Iter 23  time=1.25  loss=123506.73 active=817687 feature_norm=28.69\n",
      "Iter 24  time=1.25  loss=108428.28 active=841004 feature_norm=30.41\n",
      "Iter 25  time=1.22  loss=97268.47 active=816653 feature_norm=33.34\n",
      "Iter 26  time=1.26  loss=84603.43 active=725314 feature_norm=38.77\n",
      "Iter 27  time=1.28  loss=77036.89 active=743929 feature_norm=40.75\n",
      "Iter 28  time=1.31  loss=70984.40 active=713829 feature_norm=44.95\n",
      "Iter 29  time=1.32  loss=64732.73 active=671655 feature_norm=51.86\n",
      "Iter 30  time=1.29  loss=59077.18 active=659535 feature_norm=57.37\n",
      "Iter 31  time=1.27  loss=53244.73 active=630755 feature_norm=63.55\n",
      "Iter 32  time=1.27  loss=47387.79 active=614347 feature_norm=70.54\n",
      "Iter 33  time=1.31  loss=42565.49 active=573499 feature_norm=77.34\n",
      "Iter 34  time=1.34  loss=38140.10 active=522857 feature_norm=84.36\n",
      "Iter 35  time=2.38  loss=35778.17 active=495558 feature_norm=91.49\n",
      "Iter 36  time=1.22  loss=32137.01 active=484112 feature_norm=97.23\n",
      "Iter 37  time=1.24  loss=29496.94 active=467588 feature_norm=103.42\n",
      "Iter 38  time=1.26  loss=28367.61 active=421058 feature_norm=118.55\n",
      "Iter 39  time=1.42  loss=24762.82 active=421027 feature_norm=123.64\n",
      "Iter 40  time=1.41  loss=23781.54 active=401678 feature_norm=126.11\n",
      "Iter 41  time=1.42  loss=21851.19 active=375792 feature_norm=133.50\n",
      "Iter 42  time=1.32  loss=21547.11 active=345824 feature_norm=142.70\n",
      "Iter 43  time=1.58  loss=19548.38 active=347968 feature_norm=145.75\n",
      "Iter 44  time=1.67  loss=18976.94 active=342895 feature_norm=146.85\n",
      "Iter 45  time=1.38  loss=17394.62 active=305403 feature_norm=152.21\n",
      "Iter 46  time=2.75  loss=16991.49 active=286755 feature_norm=154.93\n",
      "Iter 47  time=1.56  loss=16318.63 active=272002 feature_norm=155.65\n",
      "Iter 48  time=1.55  loss=15899.15 active=263354 feature_norm=157.33\n",
      "Iter 49  time=1.47  loss=15328.36 active=253551 feature_norm=159.53\n",
      "Iter 50  time=1.40  loss=14614.58 active=220100 feature_norm=163.45\n",
      "Iter 51  time=2.44  loss=14413.70 active=217912 feature_norm=164.06\n",
      "Iter 52  time=1.32  loss=14241.28 active=216084 feature_norm=164.56\n",
      "Iter 53  time=1.36  loss=13776.62 active=202777 feature_norm=167.07\n",
      "Iter 54  time=1.24  loss=13534.35 active=197437 feature_norm=167.98\n",
      "Iter 55  time=1.28  loss=13275.98 active=184776 feature_norm=169.67\n",
      "Iter 56  time=1.37  loss=13039.08 active=172217 feature_norm=171.89\n",
      "Iter 57  time=1.30  loss=12836.29 active=167417 feature_norm=173.57\n",
      "Iter 58  time=1.25  loss=12602.25 active=154745 feature_norm=176.04\n",
      "Iter 59  time=1.32  loss=12434.38 active=148016 feature_norm=178.26\n",
      "Iter 60  time=1.33  loss=12283.49 active=141898 feature_norm=180.05\n",
      "Iter 61  time=1.30  loss=12161.74 active=136653 feature_norm=182.17\n",
      "Iter 62  time=1.25  loss=12046.05 active=131478 feature_norm=183.75\n",
      "Iter 63  time=1.28  loss=11945.98 active=127210 feature_norm=185.46\n",
      "Iter 64  time=1.26  loss=11848.02 active=122942 feature_norm=186.57\n",
      "Iter 65  time=1.36  loss=11766.33 active=120222 feature_norm=187.86\n",
      "Iter 66  time=1.29  loss=11691.88 active=117250 feature_norm=188.48\n",
      "Iter 67  time=1.35  loss=11623.93 active=114817 feature_norm=189.07\n",
      "Iter 68  time=1.74  loss=11558.27 active=112086 feature_norm=189.42\n",
      "Iter 69  time=1.35  loss=11498.91 active=109864 feature_norm=189.77\n",
      "Iter 70  time=1.34  loss=11440.48 active=107327 feature_norm=189.99\n",
      "Iter 71  time=1.29  loss=11386.02 active=105809 feature_norm=190.29\n",
      "Iter 72  time=1.31  loss=11334.34 active=103722 feature_norm=190.36\n",
      "Iter 73  time=1.37  loss=11285.31 active=101118 feature_norm=190.56\n",
      "Iter 74  time=1.34  loss=11241.18 active=98624 feature_norm=190.69\n",
      "Iter 75  time=1.41  loss=11200.25 active=97483 feature_norm=190.90\n",
      "Iter 76  time=1.27  loss=11159.94 active=95706 feature_norm=191.03\n",
      "Iter 77  time=1.27  loss=11120.62 active=94329 feature_norm=191.18\n",
      "Iter 78  time=1.35  loss=11083.02 active=92658 feature_norm=191.28\n",
      "Iter 79  time=1.31  loss=11046.77 active=91873 feature_norm=191.48\n",
      "Iter 80  time=1.23  loss=11010.73 active=90256 feature_norm=191.64\n",
      "Iter 81  time=1.27  loss=10976.08 active=88846 feature_norm=191.88\n",
      "Iter 82  time=1.33  loss=10944.54 active=87198 feature_norm=192.08\n",
      "Iter 83  time=1.26  loss=10914.86 active=86209 feature_norm=192.33\n",
      "Iter 84  time=1.31  loss=10886.03 active=84790 feature_norm=192.48\n",
      "Iter 85  time=1.37  loss=10855.81 active=83415 feature_norm=192.71\n",
      "Iter 86  time=1.29  loss=10829.24 active=82280 feature_norm=192.88\n",
      "Iter 87  time=1.35  loss=10805.30 active=81913 feature_norm=193.10\n",
      "Iter 88  time=1.31  loss=10782.98 active=80820 feature_norm=193.19\n",
      "Iter 89  time=1.31  loss=10758.76 active=79744 feature_norm=193.34\n",
      "Iter 90  time=1.32  loss=10734.31 active=78249 feature_norm=193.48\n",
      "Iter 91  time=1.36  loss=10715.35 active=77469 feature_norm=193.65\n",
      "Iter 92  time=1.31  loss=10697.01 active=76799 feature_norm=193.74\n",
      "Iter 93  time=1.43  loss=10679.29 active=76322 feature_norm=193.89\n",
      "Iter 94  time=1.33  loss=10658.52 active=75132 feature_norm=194.03\n",
      "Iter 95  time=1.30  loss=10642.60 active=74445 feature_norm=194.25\n",
      "Iter 96  time=1.29  loss=10627.00 active=73920 feature_norm=194.34\n",
      "Iter 97  time=1.29  loss=10612.86 active=73466 feature_norm=194.54\n",
      "Iter 98  time=1.32  loss=10597.69 active=72370 feature_norm=194.64\n",
      "Iter 99  time=1.26  loss=10584.62 active=71890 feature_norm=194.93\n",
      "Iter 100 time=1.34  loss=10572.31 active=71214 feature_norm=195.02\n",
      "L-BFGS terminated with the maximum number of iterations\n",
      "Total seconds required for training: 145.780\n",
      "\n",
      "Storing the model\n",
      "Number of active features: 71214 (2779254)\n",
      "Number of active attributes: 51127 (2693271)\n",
      "Number of active labels: 7 (7)\n",
      "Writing labels\n",
      "Writing attributes\n",
      "Writing feature references for transitions\n",
      "Writing feature references for attributes\n",
      "Seconds required: 0.117\n",
      "\n"
     ]
    },
    {
     "data": {
      "text/plain": [
       "CRF(algorithm='lbfgs', all_possible_transitions=True, c1=0.25, c2=0.018,\n",
       "    keep_tempfiles=None, max_iterations=100, verbose=True)"
      ]
     },
     "execution_count": 10,
     "metadata": {},
     "output_type": "execute_result"
    }
   ],
   "source": [
    "# **表示该位置接受任意多个关键字（keyword）参数，在函数**位置上转化为词典 [key:value, key:value ]\n",
    "crf_model = sklearn_crfsuite.CRF(algorithm='lbfgs',c1=0.25,c2=0.018,max_iterations=100,\n",
    "                                 all_possible_transitions=True,verbose=True)\n",
    "crf_model.fit(X_train, y_train)"
   ]
  },
  {
   "cell_type": "code",
   "execution_count": 11,
   "id": "5534f458-44dc-4777-bce4-58c2e701d9cc",
   "metadata": {},
   "outputs": [
    {
     "name": "stdout",
     "output_type": "stream",
     "text": [
      "              precision    recall  f1-score   support\n",
      "\n",
      "       B-LOC      0.909     0.850     0.879      2860\n",
      "       I-LOC      0.894     0.825     0.858      3904\n",
      "       B-ORG      0.832     0.739     0.783      1682\n",
      "       I-ORG      0.886     0.805     0.844      7409\n",
      "       B-PER      0.958     0.774     0.856      1826\n",
      "       I-PER      0.949     0.823     0.882      3216\n",
      "\n",
      "   micro avg      0.902     0.810     0.853     20897\n",
      "   macro avg      0.905     0.803     0.850     20897\n",
      "weighted avg      0.903     0.810     0.853     20897\n",
      "\n"
     ]
    }
   ],
   "source": [
    "labels=list(crf_model.classes_)\n",
    "labels.remove(\"O\")\n",
    "y_pred = crf_model.predict(X_dev)\n",
    "metrics.flat_f1_score(y_dev, y_pred,\n",
    "                      average='weighted', labels=labels)\n",
    "sorted_labels = sorted(labels,key=lambda name: (name[1:], name[0]))\n",
    "print(metrics.flat_classification_report(\n",
    "    y_dev, y_pred, labels=sorted_labels, digits=3\n",
    "))"
   ]
  },
  {
   "cell_type": "code",
   "execution_count": 12,
   "id": "537402be-68c9-4ac5-b9f1-9161666ce10e",
   "metadata": {},
   "outputs": [
    {
     "data": {
      "text/plain": [
       "['./chinese_crf_model.joblib']"
      ]
     },
     "execution_count": 12,
     "metadata": {},
     "output_type": "execute_result"
    }
   ],
   "source": [
    "import joblib\n",
    "joblib.dump(crf_model, \"./chinese_crf_model.joblib\")"
   ]
  },
  {
   "cell_type": "code",
   "execution_count": 13,
   "id": "a5708d24-5b83-4b55-84ad-0d9d9a3b6ae1",
   "metadata": {},
   "outputs": [
    {
     "data": {
      "text/plain": [
       "[('澳', 'B-LOC'),\n",
       " ('大', 'I-LOC'),\n",
       " ('利', 'I-LOC'),\n",
       " ('亚', 'I-LOC'),\n",
       " ('总', 'O'),\n",
       " ('理', 'O'),\n",
       " ('宣', 'O'),\n",
       " ('布', 'O'),\n",
       " ('对', 'O'),\n",
       " ('俄', 'B-LOC'),\n",
       " ('罗', 'I-LOC'),\n",
       " ('斯', 'I-LOC'),\n",
       " ('采', 'O'),\n",
       " ('取', 'O'),\n",
       " ('制', 'O'),\n",
       " ('裁', 'O'),\n",
       " ('措', 'O'),\n",
       " ('施', 'O'),\n",
       " ('。', 'O')]"
      ]
     },
     "execution_count": 13,
     "metadata": {},
     "output_type": "execute_result"
    }
   ],
   "source": [
    "text = '澳大利亚总理宣布对俄罗斯采取制裁措施。'\n",
    "\n",
    "NER_tagger = joblib.load('./chinese_crf_model.joblib')\n",
    "list_result = []\n",
    "new_sents = re.split(u'(。|！|\\!|？|\\?)', text)\n",
    "sents_feature = [sent2features(sent) for sent in new_sents]\n",
    "y_pred = NER_tagger.predict(sents_feature)\n",
    "for sent, ner_tag in zip(new_sents, y_pred):\n",
    "    for word, tag in zip(sent, ner_tag):\n",
    "        list_result.append((word,tag))\n",
    "list_result    "
   ]
  },
  {
   "cell_type": "code",
   "execution_count": 12,
   "id": "ed5ed934-e283-4e65-af17-0876ebed98a2",
   "metadata": {},
   "outputs": [],
   "source": [
    "import sklearn"
   ]
  },
  {
   "cell_type": "code",
   "execution_count": 13,
   "id": "fd5e8a89-8378-4d1f-80e7-2ac523abc406",
   "metadata": {},
   "outputs": [
    {
     "data": {
      "text/plain": [
       "'0.23.0'"
      ]
     },
     "execution_count": 13,
     "metadata": {},
     "output_type": "execute_result"
    }
   ],
   "source": [
    "sklearn.__version__"
   ]
  },
  {
   "cell_type": "code",
   "execution_count": 15,
   "id": "3b46e078-f32e-4767-8fde-6081ddf8d169",
   "metadata": {
    "tags": []
   },
   "outputs": [
    {
     "data": {
      "text/plain": [
       "[('新', 'B-LOC'),\n",
       " ('加', 'I-LOC'),\n",
       " ('坡', 'I-LOC'),\n",
       " ('3', 'O'),\n",
       " ('月', 'O'),\n",
       " ('5', 'O'),\n",
       " ('日', 'O'),\n",
       " ('宣', 'O'),\n",
       " ('布', 'O'),\n",
       " ('对', 'O'),\n",
       " ('俄', 'B-LOC'),\n",
       " ('罗', 'I-LOC'),\n",
       " ('斯', 'I-LOC'),\n",
       " ('实', 'O'),\n",
       " ('施', 'O'),\n",
       " ('金', 'O'),\n",
       " ('融', 'O'),\n",
       " ('制', 'O'),\n",
       " ('裁', 'O'),\n",
       " ('，', 'O'),\n",
       " ('并', 'O'),\n",
       " ('禁', 'O'),\n",
       " ('止', 'O'),\n",
       " ('出', 'O'),\n",
       " ('口', 'O'),\n",
       " ('电', 'O'),\n",
       " ('子', 'O'),\n",
       " ('产', 'O'),\n",
       " ('品', 'O'),\n",
       " ('、', 'O'),\n",
       " ('电', 'O'),\n",
       " ('脑', 'O'),\n",
       " ('和', 'O'),\n",
       " ('军', 'O'),\n",
       " ('用', 'O'),\n",
       " ('物', 'O'),\n",
       " ('品', 'O'),\n",
       " ('，', 'O'),\n",
       " ('以', 'O'),\n",
       " ('回', 'O'),\n",
       " ('应', 'O'),\n",
       " ('莫', 'B-LOC'),\n",
       " ('斯', 'I-LOC'),\n",
       " ('科', 'I-LOC'),\n",
       " ('在', 'O'),\n",
       " ('乌', 'B-LOC'),\n",
       " ('克', 'I-LOC'),\n",
       " ('兰', 'I-LOC'),\n",
       " ('发', 'O'),\n",
       " ('起', 'O'),\n",
       " ('“', 'O'),\n",
       " ('特', 'O'),\n",
       " ('别', 'O'),\n",
       " ('军', 'O'),\n",
       " ('事', 'O'),\n",
       " ('行', 'O'),\n",
       " ('动', 'O'),\n",
       " ('”', 'O')]"
      ]
     },
     "execution_count": 15,
     "metadata": {},
     "output_type": "execute_result"
    }
   ],
   "source": [
    "text = '新加坡3月5日宣布对俄罗斯实施金融制裁，并禁止出口电子产品、电脑和军用物品，以回应莫斯科在乌克兰发起“特别军事行动”'\n",
    "\n",
    "NER_tagger = joblib.load('./chinese_crf_model.joblib')\n",
    "list_result = []\n",
    "new_sents = re.split(u'(。|！|\\!|？|\\?)', text)\n",
    "sents_feature = [sent2features(sent) for sent in new_sents]\n",
    "y_pred = NER_tagger.predict(sents_feature)\n",
    "for sent, ner_tag in zip(new_sents, y_pred):\n",
    "    for word, tag in zip(sent, ner_tag):\n",
    "        list_result.append((word,tag))\n",
    "list_result    "
   ]
  },
  {
   "cell_type": "code",
   "execution_count": 20,
   "id": "14f88791-c458-4953-8167-b3b867e72f42",
   "metadata": {},
   "outputs": [],
   "source": [
    "text=[c[0] for c in list_result]\n",
    "tag_pre=[c[1] for c in list_result]\n",
    "# text,tag_pre"
   ]
  },
  {
   "cell_type": "code",
   "execution_count": 16,
   "id": "baadd927-9132-4b26-ada1-aaa3c0b3105a",
   "metadata": {},
   "outputs": [],
   "source": [
    "def _bulid_result_line(sentence, tag_pred):\n",
    "    result_list = []\n",
    "    for index, tag in zip(range(len(tag_pred)), tag_pred):\n",
    "        if tag[0] == 'B':\n",
    "            start = index\n",
    "            end = index\n",
    "            label_type = tag[2:]\n",
    "            if end != len(tag_pred) - 1:\n",
    "                while tag_pred[end + 1][0] == 'I' and tag_pred[end + 1][2:] == label_type:\n",
    "                    end += 1\n",
    "                    if end == len(tag_pred) - 1:\n",
    "                        break\n",
    "            result_list.append({'start': start,\n",
    "                                'end': end,\n",
    "                                'lable_type': label_type\n",
    "\n",
    "                                })\n",
    "    nouns = []\n",
    "    line = ''.join(sentence)\n",
    "    if len(result_list) != 0:\n",
    "        for index, item in enumerate(result_list):\n",
    "            nouns.append(''.join(sentence[result_list[index]['start']:result_list[index]['end'] + 1]))\n",
    "    return nouns\n"
   ]
  },
  {
   "cell_type": "code",
   "execution_count": 21,
   "id": "669ac440-3b05-4501-b189-e9c200978eb7",
   "metadata": {},
   "outputs": [
    {
     "data": {
      "text/plain": [
       "['新加坡', '俄罗斯', '莫斯科', '乌克兰']"
      ]
     },
     "execution_count": 21,
     "metadata": {},
     "output_type": "execute_result"
    }
   ],
   "source": [
    "_bulid_result_line(text,tag_pre)"
   ]
  },
  {
   "cell_type": "code",
   "execution_count": null,
   "id": "5b19953b-53b1-4718-abd3-735dae5c5fe4",
   "metadata": {},
   "outputs": [],
   "source": []
  }
 ],
 "metadata": {
  "kernelspec": {
   "display_name": "test",
   "language": "python",
   "name": "test"
  },
  "language_info": {
   "codemirror_mode": {
    "name": "ipython",
    "version": 3
   },
   "file_extension": ".py",
   "mimetype": "text/x-python",
   "name": "python",
   "nbconvert_exporter": "python",
   "pygments_lexer": "ipython3",
   "version": "3.6.13"
  }
 },
 "nbformat": 4,
 "nbformat_minor": 5
}
