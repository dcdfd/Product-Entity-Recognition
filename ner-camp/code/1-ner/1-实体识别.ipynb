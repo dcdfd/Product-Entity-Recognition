{
 "cells": [
  {
   "cell_type": "markdown",
   "id": "444af6cd-d380-4644-b536-d52168c6b86b",
   "metadata": {},
   "source": [
    "## LTP 4\n",
    "LTP（Language Technology Platform） 提供了一系列中文自然语言处理工具，用户可以使用这些工具对于中文文本进行分词、词性标注、句法分析等等工作。\n",
    "\n",
    "https://github.com/HIT-SCIR/ltp"
   ]
  },
  {
   "cell_type": "markdown",
   "id": "ac0579ce-10be-4ade-b3d9-e91dac54f4b7",
   "metadata": {},
   "source": [
    "- 分词: Electra Small1 + Linear\n",
    "- 词性: Electra Small + Linear\n",
    "- 命名实体: Electra Small + Relative Transformer2 + Linear\n",
    "- 依存句法: Electra Small + BiAffine + Eisner3\n",
    "- 语义依存: Electra Small + BiAffine\n",
    "- 语义角色: Electra Small + BiAffine + CRF"
   ]
  },
  {
   "cell_type": "markdown",
   "id": "2d758248-57b9-4acf-a076-71ea6de8fd77",
   "metadata": {},
   "source": [
    "命名实体识别标注集\n",
    "LTP中的NE 模块识别三种NE，分别如下：\n",
    "-  人名\n",
    "-  机构名\n",
    "- 地点名\n"
   ]
  },
  {
   "cell_type": "code",
   "execution_count": 2,
   "id": "e45f0c75-98a0-48d3-8ba3-7c97ea2b713f",
   "metadata": {},
   "outputs": [],
   "source": [
    "from ltp import LTP\n",
    "\n",
    "ltp = LTP(\"small\")     # 默认加载 Small 模型 base\n",
    "                # ltp = LTP(path=\"small\")\n",
    "                #     其中 path 可接受的路径为下载下来的模型或者解压后的文件夹路径\n",
    "                #     另外也可以接受一些已注册可自动下载的模型名(可使用 ltp.available_models() 查看): \n",
    "                #     base/base1/base2/small/tiny/GSD/GSD+CRF/GSDSimp/GSDSimp+CRF\n",
    "seg, hidden = ltp.seg([\"他叫汤姆去拿外衣。\"])\n",
    "pos = ltp.pos(hidden)\n",
    "ner = ltp.ner(hidden)\n",
    "srl = ltp.srl(hidden)\n",
    "dep = ltp.dep(hidden)\n",
    "sdp = ltp.sdp(hidden)"
   ]
  },
  {
   "cell_type": "code",
   "execution_count": 3,
   "id": "3aab6453-6d60-4394-815a-4f28f9adf7c6",
   "metadata": {},
   "outputs": [
    {
     "data": {
      "text/plain": [
       "[['他', '叫', '汤姆', '去', '拿', '外衣', '。']]"
      ]
     },
     "execution_count": 3,
     "metadata": {},
     "output_type": "execute_result"
    }
   ],
   "source": [
    "seg"
   ]
  },
  {
   "cell_type": "code",
   "execution_count": 4,
   "id": "acce7f13-add8-4331-bc6b-0149769d0288",
   "metadata": {},
   "outputs": [
    {
     "data": {
      "text/plain": [
       "[['r', 'v', 'nh', 'v', 'v', 'n', 'wp']]"
      ]
     },
     "execution_count": 4,
     "metadata": {},
     "output_type": "execute_result"
    }
   ],
   "source": [
    "pos"
   ]
  },
  {
   "cell_type": "code",
   "execution_count": 5,
   "id": "75d5d1bb-a73f-4b8e-b513-95ddf42d5bdb",
   "metadata": {},
   "outputs": [
    {
     "data": {
      "text/plain": [
       "[[('Nh', 2, 2)]]"
      ]
     },
     "execution_count": 5,
     "metadata": {},
     "output_type": "execute_result"
    }
   ],
   "source": [
    "ner"
   ]
  },
  {
   "cell_type": "code",
   "execution_count": 6,
   "id": "509cbd68-45b4-487e-9211-768095336382",
   "metadata": {},
   "outputs": [
    {
     "name": "stdout",
     "output_type": "stream",
     "text": [
      "Nh : 汤姆\n"
     ]
    }
   ],
   "source": [
    "seg, hidden = ltp.seg([\"他叫汤姆去拿外衣。\"])\n",
    "ner = ltp.ner(hidden)\n",
    "# [['他', '叫', '汤姆', '去', '拿', '外衣', '。']]\n",
    "# [[('Nh', 2, 2)]]\n",
    "\n",
    "tag, start, end = ner[0][0]\n",
    "print(tag,\":\", \"\".join(seg[0][start:end + 1]))\n",
    "# Nh : 汤姆"
   ]
  },
  {
   "cell_type": "markdown",
   "id": "00915783-8c15-414e-996b-9c66aad3f92e",
   "metadata": {},
   "source": [
    "## LAC\n",
    "\n",
    "LAC全称Lexical Analysis of Chinese，是百度自然语言处理部研发的一款联合的词法分析工具，实现中文分词、词性标注、专名识别等功能。该工具具有以下特点与优势：\n",
    "\n",
    "效果好：通过深度学习模型联合学习分词、词性标注、专名识别任务，词语重要性，整体效果F1值超过0.91，词性标注F1值超过0.94，专名识别F1值超过0.85，效果业内领先。\n",
    "效率高：精简模型参数，结合Paddle预测库的性能优化，CPU单线程性能达800QPS，效率业内领先。\n",
    "可定制：实现简单可控的干预机制，精准匹配用户词典对模型进行干预。词典支持长片段形式，使得干预更为精准。\n",
    "调用便捷：支持一键安装，同时提供了Python、Java和C++调用接口与调用示例，实现快速调用和集成。\n",
    "支持移动端: 定制超轻量级模型，体积仅为2M，主流千元手机单线程性能达200QPS，满足大多数移动端应用的需求，同等体积量级效果业内领先。"
   ]
  },
  {
   "cell_type": "code",
   "execution_count": 4,
   "id": "ab749eae-fc2f-499d-a268-64841c4f6a86",
   "metadata": {},
   "outputs": [
    {
     "name": "stdout",
     "output_type": "stream",
     "text": [
      "Looking in indexes: https://pypi.tuna.tsinghua.edu.cn/simple\n",
      "Requirement already satisfied: lac in f:\\programdata\\anaconda3\\envs\\test\\lib\\site-packages (2.1.2)\n"
     ]
    }
   ],
   "source": [
    "!pip install lac"
   ]
  },
  {
   "cell_type": "code",
   "execution_count": 7,
   "id": "a14437af-9284-487b-b377-0158ed161572",
   "metadata": {},
   "outputs": [],
   "source": [
    "from LAC import LAC\n",
    "\n",
    "# 装载LAC模型\n",
    "lac = LAC(mode='lac')\n",
    "\n",
    "# 单个样本输入，输入为Unicode编码的字符串\n",
    "text = u\"据俄罗斯卫星通讯社2日报道，有消息称，俄罗斯飞机在美国空域被拦截，驾驶员和机组成员被扣押。 （来源：环球时报）\"\n",
    "lac_result = lac.run(text)\n",
    "\n",
    "# 批量样本输入, 输入为多个句子组成的list，平均速率更快\n",
    "texts = [u\"苏伊士运河管理局：俄罗斯船只经过苏伊士运河“不受影响\", u\"据俄罗斯卫星通讯社2日报道，有消息称，俄罗斯飞机在美国空域被拦截，驾驶员和机组成员被扣押。 （来源：环球时报）\"]\n",
    "lac_result = lac.run(texts)"
   ]
  },
  {
   "cell_type": "code",
   "execution_count": 8,
   "id": "88fff3de-1879-4523-9fdc-f1059a1f27eb",
   "metadata": {},
   "outputs": [
    {
     "data": {
      "text/plain": [
       "[[['苏伊士运河管理局', '：', '俄罗斯', '船只', '经过', '苏伊士运河', '“', '不受', '影响'],\n",
       "  ['ORG', 'w', 'LOC', 'n', 'v', 'LOC', 'w', 'v', 'vn']],\n",
       " [['据',\n",
       "   '俄罗斯卫星通讯社2日报道',\n",
       "   '，',\n",
       "   '有',\n",
       "   '消息',\n",
       "   '称',\n",
       "   '，',\n",
       "   '俄罗斯',\n",
       "   '飞机',\n",
       "   '在',\n",
       "   '美国',\n",
       "   '空域',\n",
       "   '被',\n",
       "   '拦截',\n",
       "   '，',\n",
       "   '驾驶员',\n",
       "   '和',\n",
       "   '机组',\n",
       "   '成员',\n",
       "   '被扣押',\n",
       "   '。',\n",
       "   ' ',\n",
       "   '（',\n",
       "   '来源',\n",
       "   '：',\n",
       "   '环球时报',\n",
       "   '）'],\n",
       "  ['p',\n",
       "   'ORG',\n",
       "   'w',\n",
       "   'v',\n",
       "   'n',\n",
       "   'v',\n",
       "   'w',\n",
       "   'LOC',\n",
       "   'n',\n",
       "   'p',\n",
       "   'LOC',\n",
       "   'n',\n",
       "   'p',\n",
       "   'v',\n",
       "   'w',\n",
       "   'n',\n",
       "   'c',\n",
       "   'n',\n",
       "   'n',\n",
       "   'v',\n",
       "   'w',\n",
       "   'w',\n",
       "   'w',\n",
       "   'n',\n",
       "   'w',\n",
       "   'ORG',\n",
       "   'w']]]"
      ]
     },
     "execution_count": 8,
     "metadata": {},
     "output_type": "execute_result"
    }
   ],
   "source": [
    "lac_result"
   ]
  },
  {
   "cell_type": "code",
   "execution_count": null,
   "id": "fb4611bd-aabf-4a2e-bbff-a89959d3fe3d",
   "metadata": {},
   "outputs": [],
   "source": []
  }
 ],
 "metadata": {
  "kernelspec": {
   "display_name": "test",
   "language": "python",
   "name": "test"
  },
  "language_info": {
   "codemirror_mode": {
    "name": "ipython",
    "version": 3
   },
   "file_extension": ".py",
   "mimetype": "text/x-python",
   "name": "python",
   "nbconvert_exporter": "python",
   "pygments_lexer": "ipython3",
   "version": "3.6.13"
  }
 },
 "nbformat": 4,
 "nbformat_minor": 5
}
